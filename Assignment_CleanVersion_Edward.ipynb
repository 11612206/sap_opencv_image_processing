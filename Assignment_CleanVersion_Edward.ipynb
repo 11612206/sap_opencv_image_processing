{
 "cells": [
  {
   "cell_type": "code",
   "execution_count": 1,
   "metadata": {},
   "outputs": [],
   "source": [
    "# import packages\n",
    "import cv2\n",
    "import pandas as pd\n",
    "import numpy as np"
   ]
  },
  {
   "cell_type": "code",
   "execution_count": 56,
   "metadata": {},
   "outputs": [],
   "source": [
    "img = cv2.imread(r'C:\\\\Users\\\\I544708\\\\Desktop\\\\SAP\\\\OpenCV\\\\Assignment\\\\kcMKoaRXi.jpg')"
   ]
  },
  {
   "cell_type": "code",
   "execution_count": 57,
   "metadata": {},
   "outputs": [],
   "source": [
    "# read image size information \n",
    "height,width,channel=img.shape\n",
    "# print(height,width)"
   ]
  },
  {
   "cell_type": "code",
   "execution_count": 58,
   "metadata": {},
   "outputs": [],
   "source": [
    "def show(img):\n",
    "    cv2.imshow(\"temp\",img)\n",
    "    cv2.waitKey(0)"
   ]
  },
  {
   "cell_type": "code",
   "execution_count": 59,
   "metadata": {},
   "outputs": [],
   "source": [
    "# convert to gray image\n",
    "gray = cv2.cvtColor(img, cv2.COLOR_BGR2GRAY)\n",
    "# show(gray)"
   ]
  },
  {
   "cell_type": "code",
   "execution_count": 60,
   "metadata": {},
   "outputs": [],
   "source": [
    "# threshold processing\n",
    "ret,binary = cv2.threshold(gray, 127, 255, cv2.THRESH_BINARY_INV)\n",
    "# show(binary)\n",
    "# find contours\n",
    "contours, hierarchy = cv2.findContours(binary, cv2.RETR_EXTERNAL, cv2.CHAIN_APPROX_NONE)"
   ]
  },
  {
   "cell_type": "code",
   "execution_count": 61,
   "metadata": {},
   "outputs": [],
   "source": [
    "# find the coordinates of the box, if the first parametre is -1, it means to find the box of the whole image\n",
    "# if ul_x is not -1, then enter the following information: ul_x, the x value of up-left point; ul_y, y value for up-left point\n",
    "# w, the expected box width; h, expected box height. These information should be determined according to which item users \n",
    "# want to outline\n",
    "# obviously there are no means to outline the item in a box when it is not linearly separalble with other items in the image \n",
    "\n",
    "def find_box(ul_x,ul_y,w,h):\n",
    "    min_y,min_x=height,width\n",
    "    max_x=-1\n",
    "    max_y=-1\n",
    "    thres_min_x=ul_x\n",
    "    thres_min_y=ul_y\n",
    "    thres_max_x=ul_x+w\n",
    "    thres_max_y=ul_y+h        \n",
    "    for i in contours:\n",
    "        i=i.reshape(-1,2)\n",
    "        max_x_temp=np.max(i[:,0])\n",
    "        min_x_temp=np.min(i[:,0])\n",
    "        max_y_temp=np.max(i[:,1])\n",
    "        min_y_temp=np.min(i[:,1])\n",
    "\n",
    "        if (ul_x==-1 or (max_x_temp<=thres_max_x and max_y_temp<=thres_max_y and min_x_temp>=thres_min_x and min_y_temp>=thres_min_y)):\n",
    "            min_x=min(min_x,min_x_temp)\n",
    "            min_y=min(min_y,min_y_temp)\n",
    "            max_x=max(max_x,max_x_temp)\n",
    "            max_y=max(max_y,max_y_temp)\n",
    "    return min_x,max_x,min_y,max_y"
   ]
  },
  {
   "cell_type": "code",
   "execution_count": 62,
   "metadata": {},
   "outputs": [],
   "source": [
    "mi_x,ma_x,mi_y,ma_y=find_box(-1,20,350,460)"
   ]
  },
  {
   "cell_type": "code",
   "execution_count": 63,
   "metadata": {},
   "outputs": [],
   "source": [
    "upper_left=[mi_x,mi_y]\n",
    "upper_right=[ma_x,mi_y]\n",
    "down_left=[mi_x,ma_y]\n",
    "down_right=[ma_x,ma_y]\n",
    "new_contours=[down_left,down_right,upper_right,upper_left]"
   ]
  },
  {
   "cell_type": "code",
   "execution_count": 64,
   "metadata": {},
   "outputs": [],
   "source": [
    "#rect = cv2.minAreaRect(new_contours)\n",
    "#box = cv2.boxPoints(rect)\n",
    "box = np.int0(new_contours)\n",
    "im = cv2.drawContours(img.copy(),[box],0,(0,0,255),2)\n",
    "show(im)"
   ]
  },
  {
   "cell_type": "code",
   "execution_count": 65,
   "metadata": {},
   "outputs": [
    {
     "data": {
      "text/plain": [
       "True"
      ]
     },
     "execution_count": 65,
     "metadata": {},
     "output_type": "execute_result"
    }
   ],
   "source": [
    "cv2.imwrite(\"demo3.jpg\", im)"
   ]
  },
  {
   "cell_type": "code",
   "execution_count": null,
   "metadata": {},
   "outputs": [],
   "source": []
  }
 ],
 "metadata": {
  "kernelspec": {
   "display_name": "Python 3",
   "language": "python",
   "name": "python3"
  },
  "language_info": {
   "codemirror_mode": {
    "name": "ipython",
    "version": 3
   },
   "file_extension": ".py",
   "mimetype": "text/x-python",
   "name": "python",
   "nbconvert_exporter": "python",
   "pygments_lexer": "ipython3",
   "version": "3.8.5"
  }
 },
 "nbformat": 4,
 "nbformat_minor": 4
}
